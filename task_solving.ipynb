{
 "cells": [
  {
   "cell_type": "code",
   "execution_count": 59,
   "metadata": {},
   "outputs": [],
   "source": [
    "import pandas as pd\n",
    "from datetime import datetime\n",
    "\n",
    "def data_load():\n",
    "    daily_data = pd.read_csv('data/daily_data.csv')\n",
    "    products_data = pd.read_csv('data/products.csv')\n",
    "    promo_data = pd.read_csv('data/promo.csv')\n",
    "    return daily_data, products_data, promo_data"
   ]
  },
  {
   "cell_type": "markdown",
   "metadata": {},
   "source": [
    "Описание данных:\n",
    "\n",
    "- Daily_data - данные ежедневных продаж:\n",
    "\n",
    "1. SKU - идентификатор продукта\n",
    "2. Warehouse_code - идентификатор магазина\n",
    "3. Date - дата\n",
    "4. Sale_price - цена продажи\n",
    "5. Balance - остаток\n",
    "6. Qnt_out_sale - количество проданного товара\n",
    "7. Products - данные о продуктах:\n",
    "\n",
    "- SKU - идентификатор продукта\n",
    "1. Net_weight - вес товара\n",
    "2. Category_id - категория товара\n",
    "3. RSL - срок годности\n",
    "4. Promo - данные о промо-акциях:\n",
    "\n",
    "- Id - идентификатор акции\n",
    "1. Begin_date - дата начала акции\n",
    "2. End_date - дата окончания акции\n",
    "3. Period_type_id - тип акции (разный подход к маркетинговому продвижению товара)"
   ]
  },
  {
   "cell_type": "code",
   "execution_count": 60,
   "metadata": {},
   "outputs": [],
   "source": [
    "daily_data, products_data, promo_data = data_load()"
   ]
  },
  {
   "cell_type": "code",
   "execution_count": 61,
   "metadata": {},
   "outputs": [],
   "source": [
    "daily_data['date'] = pd.to_datetime(daily_data['date'])\n",
    "promo_data['begin_date'] = pd.to_datetime(promo_data['begin_date'])\n",
    "promo_data['end_date'] = pd.to_datetime(promo_data['end_date'])"
   ]
  },
  {
   "cell_type": "code",
   "execution_count": 62,
   "metadata": {},
   "outputs": [],
   "source": [
    "daily_data = daily_data.drop_duplicates()\n",
    "products_data = products_data.drop_duplicates()\n",
    "promo_data = promo_data.drop_duplicates()"
   ]
  },
  {
   "cell_type": "code",
   "execution_count": 80,
   "metadata": {},
   "outputs": [],
   "source": [
    "current_date = datetime(2024, 1, 7)\n",
    "past_promos = promo_data[promo_data['end_date'] < current_date]\n",
    "future_promos = promo_data[promo_data['begin_date'] >= current_date]"
   ]
  },
  {
   "cell_type": "code",
   "execution_count": 81,
   "metadata": {},
   "outputs": [],
   "source": [
    "sales_with_rsl = daily_data.merge(products_data[['sku', 'rsl']], on='sku')\n",
    "agg_sales = sales_with_rsl.groupby(['sku', 'warehouse_code', pd.Grouper(key='date', freq='D')]).agg({\n",
    "    'sale_price': 'mean',\n",
    "    'qnt_out_sale': 'sum',\n",
    "    'balance': 'mean',\n",
    "    'rsl': 'mean'\n",
    "}).reset_index()"
   ]
  },
  {
   "cell_type": "code",
   "execution_count": 85,
   "metadata": {},
   "outputs": [],
   "source": [
    "def calculate_similarity(future_promo, past_promos, aggregated_sales):\n",
    "    future_sales = aggregated_sales[aggregated_sales['id'] == future_promo['id']]\n",
    "    if future_sales.empty:\n",
    "        return []\n",
    "\n",
    "    future_sku = future_sales['sku'].values[0]\n",
    "    future_warehouse = future_sales['warehouse_code'].values[0]\n",
    "    \n",
    "    # Filter past promotions for the same SKU and warehouse\n",
    "    past_sales = aggregated_sales[(aggregated_sales['sku'] == future_sku) & \n",
    "                                  (aggregated_sales['warehouse_code'] == future_warehouse) & \n",
    "                                  (aggregated_sales['id'] != future_promo['id'])]\n",
    "\n",
    "    if past_sales.empty:\n",
    "        return []\n",
    "    \n",
    "    # Calculate similarity for each past promotion\n",
    "    past_sales = past_sales.copy()  # Create a copy to avoid SettingWithCopyWarning\n",
    "    past_sales.loc[:, 'qnt_diff'] = abs(future_sales['qnt_out_sale'].values[0] - past_sales['qnt_out_sale'])\n",
    "    past_sales.loc[:, 'price_diff'] = abs(future_sales['sale_price'].values[0] - past_sales['sale_price'])\n",
    "    past_sales.loc[:, 'balance_diff'] = abs(future_sales['balance'].values[0] - past_sales['balance'])\n",
    "    past_sales.loc[:, 'rsl_diff'] = abs(future_sales['rsl'].values[0] - past_sales['rsl'])\n",
    "    past_sales.loc[:, 'similarity'] = past_sales['qnt_diff'] + past_sales['price_diff'] + past_sales['balance_diff'] + past_sales['rsl_diff']\n",
    "    \n",
    "    # Get top 3 most similar promotions\n",
    "    top_similar = past_sales.sort_values(by='similarity').head(3)\n",
    "    return top_similar[['id', 'similarity']].values.tolist()"
   ]
  },
  {
   "cell_type": "code",
   "execution_count": 86,
   "metadata": {},
   "outputs": [],
   "source": [
    "def get_top_similar_promos(current_promo, past_promos_data, daily_sales_data):\n",
    "    # Aggregate sales data by 'sku', 'warehouse_code' and date range\n",
    "    sales_with_rsl = daily_sales_data.merge(products_data[['sku', 'rsl']], on='sku')\n",
    "    agg_sales = sales_with_rsl.groupby(['sku', 'warehouse_code', pd.Grouper(key='date', freq='D')]).agg({\n",
    "        'sale_price': 'mean',\n",
    "        'qnt_out_sale': 'sum',\n",
    "        'balance': 'mean',\n",
    "        'rsl': 'mean'\n",
    "    }).reset_index()\n",
    "    \n",
    "    # Merge the aggregated sales data with the promotions data to get the aggregated sales for each promotion period\n",
    "    promo_sales = sales_with_rsl.merge(past_promos_data, on=['sku', 'warehouse_code'])\n",
    "    promo_sales = promo_sales[(promo_sales['date'] >= promo_sales['begin_date']) & (promo_sales['date'] <= promo_sales['end_date'])]\n",
    "    \n",
    "    aggregated_sales = promo_sales.groupby(['id', 'sku', 'warehouse_code']).agg({\n",
    "        'qnt_out_sale': 'sum',\n",
    "        'sale_price': 'mean',\n",
    "        'balance': 'mean',\n",
    "        'rsl': 'mean'\n",
    "    }).reset_index()\n",
    "    \n",
    "    similar_promos = calculate_similarity(current_promo, past_promos_data, aggregated_sales)\n",
    "    return similar_promos"
   ]
  },
  {
   "cell_type": "code",
   "execution_count": 88,
   "metadata": {},
   "outputs": [
    {
     "name": "stdout",
     "output_type": "stream",
     "text": [
      "[[916.0, 38.471428571428575], [917.0, 38.471428571428575], [860.0, 43.88095238095238]]\n"
     ]
    }
   ],
   "source": [
    "# Example current promotion and previous promotions data\n",
    "current_promo = {'id': 997, 'sku': 13350850, 'begin_date': datetime(2024, 2, 5), 'warehouse_code': 278850}\n",
    "past_promos_data = promo_data\n",
    "\n",
    "# Get top 3 similar promotions\n",
    "top_similar_promos = get_top_similar_promos(current_promo, past_promos_data, daily_data)\n",
    "print(top_similar_promos)"
   ]
  },
  {
   "cell_type": "code",
   "execution_count": null,
   "metadata": {},
   "outputs": [],
   "source": []
  }
 ],
 "metadata": {
  "kernelspec": {
   "display_name": "base",
   "language": "python",
   "name": "python3"
  },
  "language_info": {
   "codemirror_mode": {
    "name": "ipython",
    "version": 3
   },
   "file_extension": ".py",
   "mimetype": "text/x-python",
   "name": "python",
   "nbconvert_exporter": "python",
   "pygments_lexer": "ipython3",
   "version": "3.9.16"
  }
 },
 "nbformat": 4,
 "nbformat_minor": 2
}
